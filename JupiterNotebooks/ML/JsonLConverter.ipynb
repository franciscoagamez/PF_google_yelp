{
 "cells": [
  {
   "cell_type": "markdown",
   "metadata": {},
   "source": [
    "## Archivos .jsonl\n",
    "\n",
    "Para entrenar nuestro modelo de ML con VertexAI en GCP nuestros archivos .json deben de estar en formato .jsonl, esto para facilitarle el trabajo al sistema. En este notebook vamos a transformar nuestros archivos de reviews de California al formato mencionado."
   ]
  },
  {
   "cell_type": "code",
   "execution_count": 9,
   "metadata": {},
   "outputs": [],
   "source": [
    "import pandas as pd\n",
    "import json\n"
   ]
  },
  {
   "cell_type": "code",
   "execution_count": 10,
   "metadata": {},
   "outputs": [],
   "source": [
    "files = []\n",
    "for i in range(1,19):\n",
    "    files.append(i)"
   ]
  },
  {
   "cell_type": "code",
   "execution_count": 12,
   "metadata": {},
   "outputs": [
    {
     "name": "stdout",
     "output_type": "stream",
     "text": [
      "DataFrame convertido a .jsonl exitosamente.\n"
     ]
    }
   ],
   "source": [
    "for i in files:\n",
    "    df = pd.read_json('DataCalifornia\\\\'+str(i)+'.json', lines= True)\n",
    "\n",
    "    # Escribir el DataFrame a un archivo .jsonl\n",
    "    with open('DataJsonL\\\\'+str(i)+'.jsonl', 'w', encoding='utf-8') as f:\n",
    "        for record in df.to_dict(orient='records'):\n",
    "            f.write(json.dumps(record) + '\\n')\n",
    "\n",
    "print(\"DataFrame convertido a .jsonl exitosamente.\")"
   ]
  }
 ],
 "metadata": {
  "kernelspec": {
   "display_name": "Python 3",
   "language": "python",
   "name": "python3"
  },
  "language_info": {
   "codemirror_mode": {
    "name": "ipython",
    "version": 3
   },
   "file_extension": ".py",
   "mimetype": "text/x-python",
   "name": "python",
   "nbconvert_exporter": "python",
   "pygments_lexer": "ipython3",
   "version": "3.12.0"
  }
 },
 "nbformat": 4,
 "nbformat_minor": 2
}
